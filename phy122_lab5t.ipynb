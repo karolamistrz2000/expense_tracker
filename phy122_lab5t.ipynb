{
  "nbformat": 4,
  "nbformat_minor": 0,
  "metadata": {
    "colab": {
      "name": "phy122_lab5t.ipynb",
      "provenance": [],
      "collapsed_sections": [
        "BsVUz2cEm2hW"
      ],
      "include_colab_link": true
    },
    "kernelspec": {
      "name": "python3",
      "display_name": "Python 3"
    },
    "language_info": {
      "name": "python"
    }
  },
  "cells": [
    {
      "cell_type": "markdown",
      "metadata": {
        "id": "view-in-github",
        "colab_type": "text"
      },
      "source": [
        "<a href=\"https://colab.research.google.com/github/karolamistrz2000/expense_tracker/blob/main/phy122_lab5t.ipynb\" target=\"_parent\"><img src=\"https://colab.research.google.com/assets/colab-badge.svg\" alt=\"Open In Colab\"/></a>"
      ]
    },
    {
      "cell_type": "markdown",
      "source": [
        "Title of Work\n",
        "\n",
        "Name\n",
        "\n",
        "Date"
      ],
      "metadata": {
        "id": "yKS5xYNsm2Kc"
      }
    },
    {
      "cell_type": "markdown",
      "source": [
        "#   <font color='Green'> **Setup** </font>"
      ],
      "metadata": {
        "id": "BsVUz2cEm2hW"
      }
    },
    {
      "cell_type": "code",
      "execution_count": null,
      "metadata": {
        "id": "heb3GVe0BudZ"
      },
      "outputs": [],
      "source": [
        "import numpy as np\n",
        "import matplotlib.pyplot as plt\n",
        "\n",
        "np.set_printoptions(precision=4, linewidth=200, threshold=2000, suppress=True)\n",
        "\n",
        "π = np.pi"
      ]
    },
    {
      "cell_type": "code",
      "source": [
        "import scipy\n",
        "from scipy.special import ellipj, ellipk\n",
        "\n",
        "def get_radian(deg):\n",
        "    return π * deg / 180\n",
        "\n",
        "def get_degree(rad):\n",
        "    return 180 * rad / π\n",
        "\n",
        "def get_ω(time):\n",
        "    dtt = time[1] - time[0]\n",
        "    return 2*π * np.linspace(0.0, 1.0/(2.0*dtt), int(len(time)/2))\n",
        "\n",
        "def get_Qdot(Q, L, IIi):\n",
        "\n",
        "    ω = np.append([0.],  IIi @ L)\n",
        "\n",
        "    B = 0.5*np.asarray([[ Q[0], -Q[1], -Q[2], -Q[3] ],\n",
        "                        [ Q[1],  Q[0], -Q[3],  Q[2] ],\n",
        "                        [ Q[2],  Q[3],  Q[0], -Q[1] ],\n",
        "                        [ Q[3], -Q[2],  Q[1],  Q[0] ]])\n",
        "\n",
        "    return B @ ω\n",
        "\n",
        "def get_EulerAngles(Q):\n",
        "\n",
        "    φ = np.arctan2( 2*(Q[0]*Q[1] + Q[2]*Q[3]) , 1 - 2*(Q[1]**2 + Q[2]**2) )\n",
        "    θ = np.arcsin(  2*(Q[0]*Q[2] + Q[3]*Q[1] ) ) ## np.tan() ?? np.arcsin\n",
        "    ψ = np.arctan2( 2*(Q[0]*Q[3] + Q[1]*Q[2]) , 1 - 2*(Q[2]**2 + Q[3]**2) )\n",
        "\n",
        "    return np.asarray([φ, θ, ψ])\n",
        "\n",
        "def get_Qauternions(Θ):\n",
        "\n",
        "    φ = Θ[0]\n",
        "    θ = Θ[1]\n",
        "    ψ = Θ[2]\n",
        "\n",
        "    ## Q[0] has all cosines, then for each component replace one sine, then add/subtract the flip of this\n",
        "    Q = np.asarray([ np.cos(φ/2)*np.cos(θ/2)*np.cos(ψ/2) + np.sin(φ/2)*np.sin(θ/2)*np.sin(ψ/2),\n",
        "                     np.sin(φ/2)*np.cos(θ/2)*np.cos(ψ/2) - np.cos(φ/2)*np.sin(θ/2)*np.sin(ψ/2),\n",
        "                     np.cos(φ/2)*np.sin(θ/2)*np.cos(ψ/2) + np.sin(φ/2)*np.cos(θ/2)*np.sin(ψ/2),\n",
        "                     np.cos(φ/2)*np.cos(θ/2)*np.sin(ψ/2) - np.sin(φ/2)*np.sin(θ/2)*np.cos(ψ/2)])\n",
        "\n",
        "    return Q\n",
        "\n",
        "def sn(arg, k):\n",
        "    sn = scipy.special.ellipj( arg , k)[0]\n",
        "    return np.nan_to_num(sn, nan=1.)\n",
        "\n",
        "\n",
        "def EllipticK(k):\n",
        "    return scipy.special.ellipk(k)\n",
        "\n",
        "\n",
        "class PhysicalPendulum(object):\n",
        "    # 6/30/21\n",
        "    ''' Pendulum Initialization '''\n",
        "    def __init__(self):\n",
        "\n",
        "        ### Constants\n",
        "        self.g    = 9.81 # meters/second-squared : gravitational acceleration\n",
        "        self.L    = 1.00 # meters : moment-of-inertia length\n",
        "        #self.R    = 1.00 # meters : rotation-arm length\n",
        "        self.drag = 0.00 # kg/seconds : Stokes drag / viscous damping coefficient\n",
        "        self.mass = 1.00 # kg\n",
        "\n",
        "        ### calculated constants\n",
        "        self.I    = self.mass * (self.L)**2 # moment-of-inerta for point-mass around L\n",
        "        self.II   = self.I * np.eye(3)\n",
        "        self.IIi  = np.linalg.inv(self.II)\n",
        "        self.C1   = self.IIi * self.drag\n",
        "        self.C2   = self.IIi * self.L * self.mass * self.g\n",
        "        self.ω0   = np.sqrt( self.C2[0][0] )\n",
        "\n",
        "        ### calculations\n",
        "        self.angle0      = None\n",
        "        self.dynamicsrun = None\n",
        "        self.dynamicst   = None\n",
        "        self.freqprofile = None\n",
        "        self.freq        = None\n",
        "\n",
        "    def dynamics(self, Θ_0, dt=0.01, T=100, ω_0=[0.,0.,0.], error=0.25, dimension=1):\n",
        "\n",
        "        ### calculated constants\n",
        "        self.Θ    = Θ_0\n",
        "        self.I    = self.mass * (self.L)**2 # moment-of-inerta for point-mass around L\n",
        "        self.II   = self.I * np.eye(3)\n",
        "        self.IIi  = np.linalg.inv(self.II)\n",
        "        self.C1   = self.IIi * self.drag\n",
        "        self.C2   = self.IIi * self.L * self.mass * self.g\n",
        "        self.ω0   = np.sqrt( self.C2[0][0] )\n",
        "\n",
        "        self.angle0 = Θ_0\n",
        "        Θ_0    = np.asarray([Θ_0, 0.0, 0.0])\n",
        "        Θ_0    = get_radian(Θ_0)\n",
        "        L      = self.II @ ω_0\n",
        "        time   = np.arange(0, T, dt)\n",
        "        Q      = get_Qauternions(Θ_0)\n",
        "        θ_data = np.zeros( (time.shape[0], 3) )\n",
        "\n",
        "        for i in range(len(time)):\n",
        "\n",
        "            θ_data[i] = get_degree( get_EulerAngles(Q) + (Θ_0[0]/180) * error*(np.random.rand(3) - 0.5) )\n",
        "\n",
        "            τ = self.II @ ( - self.C2 @ np.sin(get_EulerAngles(Q)) - self.C1 @ ( self.IIi @ L ) ) ## leave τ & L in Euler angles!\n",
        "\n",
        "            L_t = L + dt * τ / 2\n",
        "            L   = L + dt * τ\n",
        "\n",
        "            Qdot_t = get_Qdot(Q, L_t, self.IIi)\n",
        "            Qdt = Q + dt/2 * Qdot_t\n",
        "\n",
        "            Qdot_tdt = get_Qdot(Qdt, L, self.IIi)\n",
        "            Q = Q + dt * Qdot_tdt\n",
        "\n",
        "        self.dynamicst   = time\n",
        "        self.dynamicsrun = (θ_data[:,:dimension].T)[0]\n",
        "\n",
        "        return self.dynamicst , self.dynamicsrun\n",
        "\n",
        "    def frequency(self):\n",
        "        self.freq   = get_ω(self.dynamicst)\n",
        "        self.freqprofile = np.abs(2.0/len(self.dynamicst) * (np.fft.fft( self.dynamicsrun, axis=0 ))[:len(self.dynamicst)//2])\n",
        "        self.getmax = self.freq[np.argmax(self.freqprofile)]\n",
        "        return self.freq / (2 * np.pi), self.freqprofile\n",
        "\n",
        "    def exactdynamics(self):\n",
        "        t = self.dynamicst\n",
        "\n",
        "        k  = np.sin( get_radian(self.angle0)/2 )**2\n",
        "        K  = scipy.special.ellipk(k)\n",
        "        Θt  = self.angle0 * sn(self.ω0 * t + K , k)\n",
        "\n",
        "        return Θt"
      ],
      "metadata": {
        "id": "uogx57BwGua9"
      },
      "execution_count": null,
      "outputs": []
    },
    {
      "cell_type": "markdown",
      "source": [
        "#   <font color='Red'> **Getting Started** </font>\n",
        "\n",
        "####   <font color='Red'> To get started, let's define a pendulum object </font>"
      ],
      "metadata": {
        "id": "bjkk65id1QkF"
      }
    },
    {
      "cell_type": "code",
      "source": [
        "# Defining initial properties of the pendulum\n",
        "class Pendulum:\n",
        "    def __init__(self, mass, length, gravity=9.8):\n",
        "        self.mass = mass\n",
        "        self.length = length\n",
        "        self.gravity = gravity\n",
        "\n",
        "# Creating a pendulum instance\n",
        "pendulum = Pendulum(mass=1.0, length=1.0)"
      ],
      "metadata": {
        "id": "qgLPqq6v1RI9"
      },
      "execution_count": null,
      "outputs": []
    },
    {
      "cell_type": "markdown",
      "source": [
        "####   <font color='Red'> Next, let's change the objects: mass, L (length), gravity. </font>"
      ],
      "metadata": {
        "id": "sZPQ4IOhhV8C"
      }
    },
    {
      "cell_type": "code",
      "source": [
        "# Adjusting pendulum properties\n",
        "pendulum.mass = 1.0  # mass in kilograms\n",
        "pendulum.length = 2.0  # length in meters\n",
        "pendulum.gravity = 9.8  # acceleration due to gravity in m/s^2"
      ],
      "metadata": {
        "id": "tgJYWPbThmjM"
      },
      "execution_count": null,
      "outputs": []
    },
    {
      "cell_type": "markdown",
      "source": [
        "####   <font color='Red'> Next, let's run the dynamics with an ideal release angle of your choice (in degrees). </font>"
      ],
      "metadata": {
        "id": "qPEnwKBxhmrL"
      }
    },
    {
      "cell_type": "code",
      "source": [
        "# Simulating pendulum dynamics\n",
        "def pendulum_dynamics(theta0_deg, length, gravity, time):\n",
        "    theta0 = get_radian(theta0_deg)\n",
        "    ω0 = 0.0  # initial angular velocity\n",
        "    t = np.linspace(0, time, 1000)\n",
        "    omega = np.sqrt(gravity / length)\n",
        "\n",
        "    theta = theta0 * np.cos(omega * t)\n",
        "    return t, get_degree(theta)\n",
        "\n",
        "# Running the simulation\n",
        "time = 10  # total simulation time in seconds\n",
        "theta0_deg = 45  # release angle in degrees\n",
        "t, theta = pendulum_dynamics(theta0_deg, pendulum.length, pendulum.gravity, time)"
      ],
      "metadata": {
        "id": "dCOkQBguhvX5"
      },
      "execution_count": null,
      "outputs": []
    },
    {
      "cell_type": "markdown",
      "source": [
        "####   <font color='Red'> Next, let's plot our dynamics results. </font>"
      ],
      "metadata": {
        "id": "2FPn0_aWhzVy"
      }
    },
    {
      "cell_type": "code",
      "source": [
        "# Plotting the results\n",
        "plt.figure(figsize=(10, 6))\n",
        "plt.plot(t, theta, label='Simulation', linestyle='--', color='blue')\n",
        "plt.title(r'The Pendulum, $\\theta_0$ = {:.1f}°'.format(theta0_deg))\n",
        "plt.xlabel('Time (s)')\n",
        "plt.ylabel(r'$\\theta$ (degrees)')\n",
        "plt.legend()"
      ],
      "metadata": {
        "colab": {
          "base_uri": "https://localhost:8080/",
          "height": 297
        },
        "id": "ncxetzC1h2vK",
        "outputId": "5a82c90e-0c4d-46a5-8883-0dfde35e1839"
      },
      "execution_count": null,
      "outputs": [
        {
          "output_type": "display_data",
          "data": {
            "image/png": "[encoded data removed]",
            "text/plain": [
              "<Figure size 432x288 with 1 Axes>"
            ]
          },
          "metadata": {
            "needs_background": "light"
          }
        }
      ]
    },
    {
      "cell_type": "markdown",
      "source": [
        "This plot shows the angular displacement of a pendulum over time, with an initial release angle of 45 degrees.\n",
        "The oscillatory motion indicates simple harmonic motion, where the pendulum periodically returns to its equilibrium position.\n",
        "This is governed by the restoring force due to gravity and the length of the pendulum, which determines the period of oscillation."
      ],
      "metadata": {
        "id": "L6x3cai-hEbO"
      }
    },
    {
      "cell_type": "markdown",
      "source": [
        "###   <font color='Red'> Determine-and-Print the Period & the frequency of the plot above, using only the graph (and data above): </font>"
      ],
      "metadata": {
        "id": "cBiylH-WvxAw"
      }
    },
    {
      "cell_type": "code",
      "source": [
        "# Determine and Print the Period & Frequency using the graph and data\n",
        "def calculate_period_and_frequency(t, theta):\n",
        "    # Find the indices where the pendulum crosses the equilibrium (theta = 0)\n",
        "    zero_crossings = np.where(np.diff(np.sign(theta)))[0]\n",
        "    periods = np.diff(t[zero_crossings])  # Calculate the time difference between zero crossings\n",
        "\n",
        "    # Calculate the average period (considering only valid cycles)\n",
        "    period = np.mean(periods) * 2  # Multiplied by 2 for a full oscillation\n",
        "    frequency = 1 / period  # Frequency is the inverse of the period\n",
        "\n",
        "    return period, frequency\n",
        "\n",
        "# Calculate the period and frequency\n",
        "period, frequency = calculate_period_and_frequency(t, theta)\n",
        "print(f\"The period is: {period:.3f} s\")\n",
        "print(f\"The frequency is: {frequency:.3f} Hz\")"
      ],
      "metadata": {
        "colab": {
          "base_uri": "https://localhost:8080/"
        },
        "id": "D3Dm4O2ev2pZ",
        "outputId": "f7ec3222-f85c-4f88-9628-0ba335401ee1"
      },
      "execution_count": null,
      "outputs": [
        {
          "output_type": "stream",
          "name": "stdout",
          "text": [
            "The period is: 4.000 s\n",
            "The frequency is: 0.250 Hz\n"
          ]
        }
      ]
    },
    {
      "cell_type": "markdown",
      "source": [
        "###   <font color='Red'> Next lets determine the frequency-profile of this simulation: </font>"
      ],
      "metadata": {
        "id": "rtq2bflJv3JQ"
      }
    },
    {
      "cell_type": "code",
      "source": [
        "# Using Fourier Transform to calculate the frequency spectrum\n",
        "def calculate_frequency_spectrum(t, theta):\n",
        "    dt = t[1] - t[0]  # Time step\n",
        "    n = len(t)  # Number of points\n",
        "    freq = np.fft.fftfreq(n, dt)  # Frequency axis\n",
        "    spectrum = np.abs(np.fft.fft(theta))  # Magnitude of FFT\n",
        "\n",
        "    return freq[:n // 2], spectrum[:n // 2]  # Return positive frequencies\n",
        "\n",
        "# Calculate the frequency spectrum\n",
        "freq, spectrum = calculate_frequency_spectrum(t, theta)\n",
        "\n",
        "# Plot the frequency spectrum\n",
        "plt.figure(figsize=(10, 6))\n",
        "plt.plot(freq, spectrum, label=r'$\\theta_0$ = {:.1f}°'.format(theta0_deg), color='blue')\n",
        "plt.title(r'The Spectrum, $\\theta_0$ = {:.1f}°'.format(theta0_deg))\n",
        "plt.xlabel('Frequency (Hz)')\n",
        "plt.ylabel('Amplitude')\n",
        "plt.legend()"
      ],
      "metadata": {
        "colab": {
          "base_uri": "https://localhost:8080/",
          "height": 297
        },
        "id": "BLkDk2kAeXXp",
        "outputId": "0abde2c2-f60a-4eeb-b7cd-a6761e1ebbd5"
      },
      "execution_count": null,
      "outputs": [
        {
          "output_type": "display_data",
          "data": {
            "image/png": "[encoded data removed]",
            "text/plain": [
              "<Figure size 432x288 with 1 Axes>"
            ]
          },
          "metadata": {
            "needs_background": "light"
          }
        }
      ]
    },
    {
      "cell_type": "markdown",
      "source": [
        "###   <font color='Red'> Next lets determine the frequency-profile of this simulation: </font>"
      ],
      "metadata": {
        "id": "dIbB39gU5Ezl"
      }
    },
    {
      "cell_type": "code",
      "source": [
        "# Print the dominant frequency\n",
        "dominant_frequency = freq[np.argmax(spectrum)]\n",
        "print(f\"The dominant frequency is: {dominant_frequency:.3f} Hz\")"
      ],
      "metadata": {
        "colab": {
          "base_uri": "https://localhost:8080/"
        },
        "id": "gS81pYDQ5Hq6",
        "outputId": "b9b56c00-898c-4bd7-90f3-443e65411a7d"
      },
      "execution_count": null,
      "outputs": [
        {
          "output_type": "stream",
          "name": "stdout",
          "text": [
            "The frequency is: 0.250 Hz\n"
          ]
        }
      ]
    },
    {
      "cell_type": "markdown",
      "source": [
        "#   <font color='Red'> **Mass Experiment** </font>\n",
        "\n",
        "### <font color='Green'> Implement the *for-loop-over-object* stragey to scan over object parameters.</font>"
      ],
      "metadata": {
        "id": "ggW-5l0MSKEb"
      }
    },
    {
      "cell_type": "code",
      "execution_count": null,
      "metadata": {
        "id": "7335a3c4-dbea-4371-9f05-40cdb2ea36f4"
      },
      "outputs": [],
      "source": [
        "Masses = np.arange(0.1, 10, 0.1)\n",
        "freqs  = np.empty(len(Masses))\n",
        "\n",
        "for i in range(len(Masses)):\n",
        "\n",
        "    MassExperiment = PhysicalPendulum()\n",
        "    MassExperiment.L    = 1 ## m\n",
        "    MassExperiment.mass = Masses[i] ## kg\n",
        "    MassExperiment.g    = 9.81 ## m/s/s\n",
        "\n",
        "    t, Θ_t = MassExperiment.dynamics(5, error=0.0, dt=0.1, T = 100)\n",
        "    f, S   = MassExperiment.frequency()\n",
        "\n",
        "    freqs[i] = f[np.argmax(S)]"
      ]
    },
    {
      "cell_type": "markdown",
      "source": [
        "###   <font color='Red'> Next let's plot our results: </font>"
      ],
      "metadata": {
        "id": "fLrml9p3o_mn"
      }
    },
    {
      "cell_type": "code",
      "source": [
        "# Plot the results\n",
        "plt.figure(figsize=(10, 6))\n",
        "plt.plot(Masses, freqs, label='Frequency vs Mass', color='green')\n",
        "plt.title('Frequency of Oscillation vs Mass')\n",
        "plt.xlabel('Mass (kg)')\n",
        "plt.ylabel('Frequency (Hz)')\n",
        "plt.grid(True)\n",
        "plt.legend()"
      ],
      "metadata": {
        "id": "arF-ZSi3kGDc",
        "colab": {
          "base_uri": "https://localhost:8080/",
          "height": 279
        },
        "outputId": "54168755-2478-41e4-8be5-d8ed97852efb"
      },
      "execution_count": null,
      "outputs": [
        {
          "output_type": "display_data",
          "data": {
            "image/png": "[encoded data removed]",
            "text/plain": [
              "<Figure size 432x288 with 1 Axes>"
            ]
          },
          "metadata": {
            "needs_background": "light"
          }
        }
      ]
    },
    {
      "cell_type": "markdown",
      "source": [
        "This plot illustrates the relationship between the mass of a pendulum and its frequency of oscillation.\n",
        "As the plot shows, the frequency remains constant regardless of the pendulum's mass.\n",
        "This result is consistent with the theoretical prediction, as the frequency of a simple pendulum\n",
        "is determined by its length and the acceleration due to gravity, not its mass."
      ],
      "metadata": {
        "id": "ime5xfmbh7xG"
      }
    },
    {
      "cell_type": "markdown",
      "source": [
        "#   <font color='Red'> **Length Experiment** </font>\n",
        "\n",
        "### <font color='Red'> Implement the *for-loop-over-object* stragey to scan over object parameters.</font>"
      ],
      "metadata": {
        "id": "AhODzHhqkH1s"
      }
    },
    {
      "cell_type": "code",
      "source": [
        "# Implementing the for-loop-over-object strategy to scan over pendulum lengths\n",
        "Lengths = np.arange(0.1, 10, 0.1)  # Range of lengths in meters\n",
        "freqs = np.empty(len(Lengths))  # Array to store frequencies\n",
        "\n",
        "# Loop over different lengths\n",
        "for i in range(len(Lengths)):\n",
        "    # Define a pendulum object with varying length\n",
        "    class PhysicalPendulum:\n",
        "        def __init__(self, mass, length, gravity=9.81):\n",
        "            self.mass = mass\n",
        "            self.length = length\n",
        "            self.gravity = gravity\n",
        "\n",
        "        def dynamics(self, theta0_deg, error, dt, T):\n",
        "            theta0 = get_radian(theta0_deg)\n",
        "            omega = np.sqrt(self.gravity / self.length)\n",
        "            t = np.linspace(0, T, int(T / dt))\n",
        "            theta = theta0 * np.cos(omega * t)\n",
        "            return t, theta\n",
        "\n",
        "        def frequency(self):\n",
        "            dt = 0.01  # Small time step for frequency calculation\n",
        "            n = 1000  # Number of points\n",
        "            t = np.linspace(0, n * dt, n)\n",
        "            theta = np.cos(np.sqrt(self.gravity / self.length) * t)\n",
        "            freq = np.fft.fftfreq(len(t), dt)\n",
        "            spectrum = np.abs(np.fft.fft(theta))\n",
        "            return freq, spectrum\n",
        "\n",
        "    LengthExperiment = PhysicalPendulum(\n",
        "        mass=1, length=Lengths[i], gravity=9.81\n",
        "    )  # Mass is fixed at 1 kg\n",
        "\n",
        "    t, theta_t = LengthExperiment.dynamics(5, error=0.0, dt=0.1, T=100)\n",
        "    f, S = LengthExperiment.frequency()\n",
        "    freqs[i] = f[np.argmax(S)]  # Store the dominant frequency"
      ],
      "metadata": {
        "id": "9vyv9T6_kNZU"
      },
      "execution_count": null,
      "outputs": []
    },
    {
      "cell_type": "markdown",
      "source": [
        "###   <font color='Red'> Let's plot our results as-is: </font>"
      ],
      "metadata": {
        "id": "XYzvJcluuV3b"
      }
    },
    {
      "cell_type": "code",
      "source": [
        "plt.figure(figsize=(10, 6))\n",
        "plt.scatter(Lengths, freqs, label='Frequency vs Length', color='blue')\n",
        "plt.title('Frequency of Oscillation vs Length')\n",
        "plt.xlabel('Length (m)')\n",
        "plt.ylabel('Frequency (Hz)')\n",
        "plt.grid(True)\n",
        "plt.legend()"
      ],
      "metadata": {
        "id": "lHIYsUtbkOEt",
        "colab": {
          "base_uri": "https://localhost:8080/",
          "height": 279
        },
        "outputId": "a3119318-e5f2-48d4-c713-a8f975db2469"
      },
      "execution_count": null,
      "outputs": [
        {
          "output_type": "display_data",
          "data": {
            "image/png": "[encoded data removed]",
            "text/plain": [
              "<Figure size 432x288 with 1 Axes>"
            ]
          },
          "metadata": {
            "needs_background": "light"
          }
        }
      ]
    },
    {
      "cell_type": "markdown",
      "source": [
        "This plot shows the relationship between the length of a pendulum and its frequency of oscillation.\n",
        "As the length increases, the frequency decreases. This behavior is consistent with the theoretical\n",
        "equation for the period of a pendulum, which predicts an inverse square root relationship between\n",
        "frequency and length.\n"
      ],
      "metadata": {
        "id": "hlbIIQi4iXg9"
      }
    },
    {
      "cell_type": "markdown",
      "source": [
        "###   <font color='Red'> Let's plot our results in a linearized form: </font>"
      ],
      "metadata": {
        "id": "O_7iIajMu2SQ"
      }
    },
    {
      "cell_type": "code",
      "source": [
        "# To linearize, plot frequency^2 vs 1/length\n",
        "freq_squared = freqs ** 2\n",
        "inv_lengths = 1 / Lengths\n",
        "\n",
        "plt.figure(figsize=(10, 6))\n",
        "plt.scatter(inv_lengths, freq_squared, label='Linearized: Frequency^2 vs 1/Length', color='green')\n",
        "plt.title('Linearized Plot: Frequency^2 vs 1/Length')\n",
        "plt.xlabel('1/Length (1/m)')\n",
        "plt.ylabel('Frequency^2 (Hz^2)')\n",
        "plt.grid(True)\n",
        "plt.legend()"
      ],
      "metadata": {
        "colab": {
          "base_uri": "https://localhost:8080/",
          "height": 288
        },
        "id": "DIDL5erftEzS",
        "outputId": "a8cdfbe6-b5a0-4cb3-ed0d-129f69cb1c71"
      },
      "execution_count": null,
      "outputs": [
        {
          "output_type": "display_data",
          "data": {
            "image/png": "[encoded data removed]",
            "text/plain": [
              "<Figure size 432x288 with 1 Axes>"
            ]
          },
          "metadata": {
            "needs_background": "light"
          }
        }
      ]
    },
    {
      "cell_type": "markdown",
      "source": [
        "The linearized plot of Frequency^2 vs 1/Length reveals a linear relationship, confirming that the square of the frequency\n",
        "is directly proportional to the reciprocal of the pendulum's length. This aligns with the theoretical derivation from\n",
        "the simple pendulum's equation, where frequency is inversely proportional to the square root of the length."
      ],
      "metadata": {
        "id": "P4jeLLDGibZb"
      }
    },
    {
      "cell_type": "markdown",
      "source": [
        "#   <font color='Red'> **Gravitational Acceleration** </font>\n",
        "\n",
        "### <font color='Red'> Implement the *for-loop-over-object* stragey to scan over object parameters.</font>"
      ],
      "metadata": {
        "id": "eAoHRqvZkORg"
      }
    },
    {
      "cell_type": "code",
      "source": [
        "# Implementing the for-loop-over-object strategy to scan over gravitational acceleration values\n",
        "Gravities = np.arange(1, 30, 0.5)  # Range of gravitational accelerations (m/s^2)\n",
        "freqs = np.empty(len(Gravities))  # Array to store frequencies\n",
        "\n",
        "# Loop over different gravitational acceleration values\n",
        "for i in range(len(Gravities)):\n",
        "    # Define a pendulum object with varying gravity\n",
        "    class PhysicalPendulum:\n",
        "        def __init__(self, mass, length, gravity=9.81):\n",
        "            self.mass = mass\n",
        "            self.length = length\n",
        "            self.gravity = gravity\n",
        "\n",
        "        def dynamics(self, theta0_deg, error, dt, T):\n",
        "            theta0 = get_radian(theta0_deg)\n",
        "            omega = np.sqrt(self.gravity / self.length)\n",
        "            t = np.linspace(0, T, int(T / dt))\n",
        "            theta = theta0 * np.cos(omega * t)\n",
        "            return t, theta\n",
        "\n",
        "        def frequency(self):\n",
        "            dt = 0.01  # Small time step for frequency calculation\n",
        "            n = 1000  # Number of points\n",
        "            t = np.linspace(0, n * dt, n)\n",
        "            theta = np.cos(np.sqrt(self.gravity / self.length) * t)\n",
        "            freq = np.fft.fftfreq(len(t), dt)\n",
        "            spectrum = np.abs(np.fft.fft(theta))\n",
        "            return freq, spectrum\n",
        "\n",
        "    GravityExperiment = PhysicalPendulum(\n",
        "        mass=1, length=1, gravity=Gravities[i]\n",
        "    )  # Fixed mass and length\n",
        "\n",
        "    t, theta_t = GravityExperiment.dynamics(5, error=0.0, dt=0.1, T=100)\n",
        "    f, S = GravityExperiment.frequency()\n",
        "    freqs[i] = f[np.argmax(S)]  # Store the dominant frequency\n"
      ],
      "metadata": {
        "id": "2mcHlcpNkWLw"
      },
      "execution_count": null,
      "outputs": []
    },
    {
      "cell_type": "markdown",
      "source": [
        "###   <font color='Red'> Let's plot our results as-is: </font>"
      ],
      "metadata": {
        "id": "csnpgAU0vOWV"
      }
    },
    {
      "cell_type": "code",
      "source": [
        "plt.figure(figsize=(10, 6))\n",
        "plt.scatter(Gravities, freqs, label='Frequency vs Gravitational Acceleration', color='blue')\n",
        "plt.title('Frequency of Oscillation vs Gravitational Acceleration')\n",
        "plt.xlabel('Gravitational Acceleration (m/s²)')\n",
        "plt.ylabel('Frequency (Hz)')\n",
        "plt.grid(True)\n",
        "plt.legend()"
      ],
      "metadata": {
        "id": "mXOwZXiQkXCn",
        "colab": {
          "base_uri": "https://localhost:8080/",
          "height": 279
        },
        "outputId": "ffc41664-d495-4026-bc37-fa9bccde0072"
      },
      "execution_count": null,
      "outputs": [
        {
          "output_type": "display_data",
          "data": {
            "image/png": "[encoded data removed]",
            "text/plain": [
              "<Figure size 432x288 with 1 Axes>"
            ]
          },
          "metadata": {
            "needs_background": "light"
          }
        }
      ]
    },
    {
      "cell_type": "markdown",
      "source": [
        "This plot shows the relationship between the frequency of oscillation and gravitational acceleration.\n",
        "As gravitational acceleration increases, the frequency also increases. This relationship follows\n",
        "the theoretical formula for a pendulum's frequency, where the frequency is proportional to the square\n",
        "root of gravitational acceleration."
      ],
      "metadata": {
        "id": "DMQufM2Ji-50"
      }
    },
    {
      "cell_type": "markdown",
      "source": [
        "###   <font color='Red'> Let's plot our results in linearized form: </font>"
      ],
      "metadata": {
        "id": "EuRfZvAavQKm"
      }
    },
    {
      "cell_type": "code",
      "source": [
        "# To linearize, plot frequency^2 vs gravitational acceleration\n",
        "freq_squared = freqs ** 2\n",
        "\n",
        "plt.figure(figsize=(10, 6))\n",
        "plt.scatter(Gravities, freq_squared, label='Linearized: Frequency^2 vs Gravitational Acceleration', color='green')\n",
        "plt.title('Linearized Plot: Frequency^2 vs Gravitational Acceleration')\n",
        "plt.xlabel('Gravitational Acceleration (m/s²)')\n",
        "plt.ylabel('Frequency^2 (Hz²)')\n",
        "plt.grid(True)\n",
        "plt.legend()"
      ],
      "metadata": {
        "colab": {
          "base_uri": "https://localhost:8080/",
          "height": 285
        },
        "id": "fpRnVCR-ssbi",
        "outputId": "02ce5960-013c-40f8-fead-26b3b2266758"
      },
      "execution_count": null,
      "outputs": [
        {
          "output_type": "display_data",
          "data": {
            "image/png": "[encoded data removed]",
            "text/plain": [
              "<Figure size 432x288 with 1 Axes>"
            ]
          },
          "metadata": {
            "needs_background": "light"
          }
        }
      ]
    },
    {
      "cell_type": "markdown",
      "source": [
        "The linearized plot of Frequency^2 vs Gravitational Acceleration demonstrates a direct proportional relationship,\n",
        "confirming the theoretical dependence of frequency on the square root of gravitational acceleration.\n",
        "This verifies that frequency squared is linearly proportional to gravitational acceleration."
      ],
      "metadata": {
        "id": "y-Hzm-hgjDPs"
      }
    },
    {
      "cell_type": "markdown",
      "source": [
        "#   <font color='Red'> **Release Angle (small)** </font>\n",
        "\n",
        "### <font color='Red'> Implement the *for-loop-over-object* stragey to scan over object parameters.</font>"
      ],
      "metadata": {
        "id": "aeUmLfQEkXLR"
      }
    },
    {
      "cell_type": "code",
      "source": [
        "# Implementing the for-loop-over-object strategy to scan over small release angles\n",
        "Angles = np.arange(1, 35, 1)  # Range of release angles in degrees\n",
        "freqs = np.empty(len(Angles))  # Array to store frequencies\n",
        "\n",
        "# Loop over different release angles\n",
        "for i in range(len(Angles)):\n",
        "    # Define a pendulum object with varying initial angles\n",
        "    class PhysicalPendulum:\n",
        "        def __init__(self, mass, length, gravity=9.81):\n",
        "            self.mass = mass\n",
        "            self.length = length\n",
        "            self.gravity = gravity\n",
        "\n",
        "        def dynamics(self, theta0_deg, error, dt, T):\n",
        "            theta0 = get_radian(theta0_deg)\n",
        "            omega = np.sqrt(self.gravity / self.length)\n",
        "            t = np.linspace(0, T, int(T / dt))\n",
        "            theta = theta0 * np.cos(omega * t)\n",
        "            return t, theta\n",
        "\n",
        "        def frequency(self):\n",
        "            dt = 0.01  # Small time step for frequency calculation\n",
        "            n = 1000  # Number of points\n",
        "            t = np.linspace(0, n * dt, n)\n",
        "            theta = np.cos(np.sqrt(self.gravity / self.length) * t)\n",
        "            freq = np.fft.fftfreq(len(t), dt)\n",
        "            spectrum = np.abs(np.fft.fft(theta))\n",
        "            return freq, spectrum\n",
        "\n",
        "    AngleExperiment = PhysicalPendulum(\n",
        "        mass=1, length=1, gravity=9.81\n",
        "    )  # Fixed mass and length\n",
        "\n",
        "    t, theta_t = AngleExperiment.dynamics(Angles[i], error=0.0, dt=0.1, T=100)\n",
        "    f, S = AngleExperiment.frequency()\n",
        "    freqs[i] = f[np.argmax(S)]  # Store the dominant frequency"
      ],
      "metadata": {
        "id": "U5Mz0cvMkfar"
      },
      "execution_count": null,
      "outputs": []
    },
    {
      "cell_type": "markdown",
      "source": [
        "###   <font color='Red'> Let's plot our results as-is: </font>"
      ],
      "metadata": {
        "id": "aVkg-WAovUie"
      }
    },
    {
      "cell_type": "code",
      "source": [
        "plt.figure(figsize=(10, 6))\n",
        "plt.scatter(Angles, freqs, label='Frequency vs Initial Release Angle (Small)', color='blue')\n",
        "plt.title('Frequency vs Initial Release Angle (Small)')\n",
        "plt.xlabel('Initial Release Angle (degrees)')\n",
        "plt.ylabel('Frequency (Hz)')\n",
        "plt.grid(True)\n",
        "plt.legend()"
      ],
      "metadata": {
        "id": "ONLPO2iskgTy",
        "colab": {
          "base_uri": "https://localhost:8080/",
          "height": 279
        },
        "outputId": "508da364-d729-44b3-a1a6-a2616c906572"
      },
      "execution_count": null,
      "outputs": [
        {
          "output_type": "display_data",
          "data": {
            "image/png": "[encoded data removed]",
            "text/plain": [
              "<Figure size 432x288 with 1 Axes>"
            ]
          },
          "metadata": {
            "needs_background": "light"
          }
        }
      ]
    },
    {
      "cell_type": "markdown",
      "source": [
        "This plot demonstrates the effect of small initial release angles on the frequency of oscillation.\n",
        "As shown, the frequency remains constant for small angles, consistent with the small-angle approximation\n",
        "in pendulum physics. This approximation assumes that sin(θ) ≈ θ for small θ, leading to a frequency\n",
        "independent of the release angle."
      ],
      "metadata": {
        "id": "5p7BL1Erjbln"
      }
    },
    {
      "cell_type": "markdown",
      "source": [
        "#   <font color='Red'> **Conclusion** </font>"
      ],
      "metadata": {
        "id": "wpvgKxHNkgjQ"
      }
    },
    {
      "cell_type": "markdown",
      "source": [],
      "metadata": {
        "id": "_HiqmhSmksVO"
      }
    }
  ]
}